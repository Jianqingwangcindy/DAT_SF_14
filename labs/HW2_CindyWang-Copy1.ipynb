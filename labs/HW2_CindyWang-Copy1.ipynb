{
 "cells": [
  {
   "cell_type": "code",
   "execution_count": 1,
   "metadata": {
    "collapsed": true
   },
   "outputs": [],
   "source": [
    "%matplotlib inline\n",
    "from __future__ import division\n",
    "import pandas as pd\n",
    "import numpy as np\n",
    "#from seaborn import plt\n",
    "import matplotlib.pyplot as plt\n",
    "from sklearn.datasets import load_iris"
   ]
  },
  {
   "cell_type": "code",
   "execution_count": 7,
   "metadata": {
    "collapsed": true
   },
   "outputs": [],
   "source": [
    "from sklearn import neighbors, datasets\n",
    "from sklearn.cross_validation import train_test_split\n"
   ]
  },
  {
   "cell_type": "markdown",
   "metadata": {},
   "source": [
    "# Question 1 Section"
   ]
  },
  {
   "cell_type": "code",
   "execution_count": 4,
   "metadata": {
    "collapsed": true
   },
   "outputs": [],
   "source": [
    "iris = datasets.load_iris()\n",
    "iris_df = pd.DataFrame(iris.data, columns=iris.feature_names)\n",
    "iris_df['Target'] = iris.target"
   ]
  },
  {
   "cell_type": "code",
   "execution_count": 172,
   "metadata": {
    "collapsed": false
   },
   "outputs": [
    {
     "name": "stdout",
     "output_type": "stream",
     "text": [
      "[(7.0, 0.97368421052631582), (8.0, 0.97368421052631582), (9.0, 0.97368421052631582), (10.0, 0.97368421052631582), (19.0, 0.97368421052631582)]\n"
     ]
    }
   ],
   "source": [
    "X_train, X_test, y_train, y_test = train_test_split(iris.data, iris.target, random_state=8)\n",
    "\n",
    "# use array [,0]to keep track of neighbore and [,1] for the score of test dataset\n",
    "neighbores = len(X_train)\n",
    "scores = np.zeros((neighbores,2))\n",
    "# Keep track the number of neighbore with highest test score\n",
    "score_max = [] \n",
    "\n",
    "\n",
    "for n in range(neighbores):\n",
    "    clf = neighbors.KNeighborsClassifier(n+1)\n",
    "    clf.fit(X_train, y_train)    \n",
    "    scores[n][0]=n+1 # keep track of neighbore\n",
    "    scores[n][1]=clf.score(X_test, y_test) # keep track of test score\n",
    "    \n",
    "    #keep track the neighbore with highest test score\n",
    "    if n== 0 :\n",
    "        score_max.append((scores[n][0],scores[n][1]))\n",
    "    else:\n",
    "        if(scores[n][1] > score_max[0][1]):\n",
    "            del score_max[:]\n",
    "            score_max.append((scores[n][0],scores[n][1]))\n",
    "        else:\n",
    "            if(scores[n][1] == score_max[0][1]):\n",
    "                score_max.append((scores[n][0],scores[n][1]))\n",
    "                \n",
    "\n",
    "#print scores\n",
    "print score_max\n"
   ]
  },
  {
   "cell_type": "raw",
   "metadata": {},
   "source": [
    "Answer: K of 7, 8, 9,10 and 19 are the best neighbor number"
   ]
  },
  {
   "cell_type": "markdown",
   "metadata": {},
   "source": [
    "# Question 2 Section"
   ]
  },
  {
   "cell_type": "code",
   "execution_count": 173,
   "metadata": {
    "collapsed": true
   },
   "outputs": [],
   "source": [
    "from sklearn.cross_validation import cross_val_score\n",
    "\n",
    "# Try cross validation with neighbore number of 7\n",
    "clf = neighbors.KNeighborsClassifier(7, weights='uniform')\n",
    "clf.fit(iris.data, iris.target)\n",
    "cross_scores = cross_val_score(clf, iris_df.values, iris.target, cv=5)"
   ]
  },
  {
   "cell_type": "code",
   "execution_count": 22,
   "metadata": {
    "collapsed": false
   },
   "outputs": [
    {
     "name": "stdout",
     "output_type": "stream",
     "text": [
      "[ 1.  1.  1.  1.  1.]\n"
     ]
    }
   ],
   "source": [
    "print cross_scores"
   ]
  },
  {
   "cell_type": "markdown",
   "metadata": {},
   "source": [
    "# Question 3 Section"
   ]
  },
  {
   "cell_type": "code",
   "execution_count": 176,
   "metadata": {
    "collapsed": false
   },
   "outputs": [
    {
     "name": "stdout",
     "output_type": "stream",
     "text": [
      "[(1.0, 1.0), (2.0, 1.0), (3.0, 1.0), (4.0, 1.0), (5.0, 1.0), (6.0, 1.0), (7.0, 1.0), (8.0, 1.0), (9.0, 1.0), (10.0, 1.0), (11.0, 1.0), (12.0, 1.0), (13.0, 1.0), (14.0, 1.0), (15.0, 1.0), (16.0, 1.0), (17.0, 1.0), (18.0, 1.0), (19.0, 1.0)]\n"
     ]
    }
   ],
   "source": [
    "# use array [,0]to keep track of neighbore and [,1] for the score of test dataset\n",
    "# Since it is 5 folds, the max size of training dataset and neighbore is 120\n",
    "cross_scores_N = np.zeros((120,2))\n",
    "# Keep track the number of neighbore with highest test score\n",
    "score_max_N = [] \n",
    "\n",
    "for n in range(120):\n",
    "    clf = neighbors.KNeighborsClassifier(n+1,weights='uniform')\n",
    "    #clf.fit(iris.data, iris.target)\n",
    "    # keep track of neighbore\n",
    "    cross_scores_N[n][0]= n+1\n",
    "    # keep track of test score\n",
    "    cross_scores_N[n][1]= cross_val_score(clf, iris_df.values, iris.target, cv=5).mean()\n",
    "\n",
    "    #keep track the neighbore with highest test score\n",
    "    if n== 0 :\n",
    "        score_max_N.append((cross_scores_N[n][0],cross_scores_N[n][1]))\n",
    "    else:\n",
    "        if(cross_scores_N[n][1] > score_max_N[0][1]):\n",
    "            del score_max_N[:]\n",
    "            score_max_N.append((cross_scores_N[n][0],cross_scores_N[n][1]))\n",
    "        else:\n",
    "            if(cross_scores_N[n][1] == score_max_N[0][1]):\n",
    "                score_max_N.append((cross_scores_N[n][0],cross_scores_N[n][1]))\n",
    "                \n",
    "\n",
    "#print cross_scores_N\n",
    "print score_max_N"
   ]
  },
  {
   "cell_type": "raw",
   "metadata": {},
   "source": [
    "Answer: It seems that N between 1 and 19 all work pretty well."
   ]
  },
  {
   "cell_type": "markdown",
   "metadata": {},
   "source": [
    "# Question 4 Section"
   ]
  },
  {
   "cell_type": "code",
   "execution_count": 177,
   "metadata": {
    "collapsed": false
   },
   "outputs": [
    {
     "data": {
      "text/plain": [
       "[<matplotlib.lines.Line2D at 0x19127d68>]"
      ]
     },
     "execution_count": 177,
     "metadata": {},
     "output_type": "execute_result"
    },
    {
     "data": {
      "image/png": "[encoded data removed]",
      "text/plain": [
       "<matplotlib.figure.Figure at 0x18f4eeb8>"
      ]
     },
     "metadata": {},
     "output_type": "display_data"
    }
   ],
   "source": [
    "plt.plot(cross_scores_N[:,0], cross_scores_N[:,1], linewidth=3.0)"
   ]
  },
  {
   "cell_type": "markdown",
   "metadata": {},
   "source": [
    "# Question 5 Section"
   ]
  },
  {
   "cell_type": "code",
   "execution_count": 179,
   "metadata": {
    "collapsed": false
   },
   "outputs": [],
   "source": [
    "# Randomly create 5 fold\n",
    "import random\n",
    "\n",
    "\n",
    "\n",
    "ori_len = len(iris.data)\n",
    "iris_data_list = iris.data.tolist()\n",
    "iris_target_list = iris.target.tolist()\n",
    "\n",
    "each_fold_size = ori_len/5\n",
    "\n",
    "random.seed(6)\n",
    "\n",
    "# Keep track of 5 different training and testing dataset\n",
    "train_X = []\n",
    "train_y = []\n",
    "test_X = []\n",
    "test_y = []\n",
    "\n",
    "# Hold one training and testing dataset\n",
    "curr_train_X = []\n",
    "curr_train_y = []\n",
    "curr_test_X = []\n",
    "curr_test_y = []\n",
    "\n",
    "for i in range(5):\n",
    "    #build training and testing dataset one at a time\n",
    "    if len(curr_train_X) != 0:\n",
    "        del curr_train_X[:]\n",
    "        del curr_train_y[:]\n",
    "        del curr_test_X[:]\n",
    "        del curr_test_y[:]\n",
    "    \n",
    "      \n",
    "    for j in range(ori_len):\n",
    "        if j < int(i*each_fold_size):\n",
    "            curr_train_X.append(iris_data_list[j])\n",
    "            curr_train_y.append(iris_target_list[j])\n",
    "        else:\n",
    "            if j >= int((i+1)*each_fold_size):\n",
    "                curr_train_X.append(iris_data_list[j])\n",
    "                curr_train_y.append(iris_target_list[j])\n",
    "            else:\n",
    "                curr_test_X.append(iris_data_list[j]) \n",
    "                curr_test_y.append(iris_target_list[j])\n",
    "                \n",
    "    #Put a training and testing dataset into list    \n",
    "    train_X.append(np.array(curr_train_X))\n",
    "    test_X.append(np.array(curr_test_X))\n",
    "    train_y.append(np.array(curr_train_y))\n",
    "    test_y.append(np.array(curr_test_y))\n",
    "    \n",
    "    "
   ]
  },
  {
   "cell_type": "code",
   "execution_count": 143,
   "metadata": {
    "collapsed": false
   },
   "outputs": [
    {
     "name": "stdout",
     "output_type": "stream",
     "text": [
      "3.0\n"
     ]
    }
   ],
   "source": [
    "#print range(1,30);\n",
    "my_scores = np.array([[1,2,4,5],[4,5,6,7],[7,8,9,10]])\n",
    "print np.mean(my_scores[0][1:3])\n"
   ]
  },
  {
   "cell_type": "code",
   "execution_count": 180,
   "metadata": {
    "collapsed": false
   },
   "outputs": [],
   "source": [
    "# Use array to hold \n",
    "# the number of neighbore [,0]\n",
    "# fold 1 to fold 5 test score [,1:6]\n",
    "# average of fold1 to fold 5 test score [,6]\n",
    "my_scores = np.zeros((120,7))\n",
    "# Keep track the number of neighbore with highest average test score from 1~5 fold test\n",
    "my_scores_max = []\n",
    "\n",
    "# number of neigbores go from 0 to numbers of data in training dataset\n",
    "for n in range(0,120):\n",
    "    my_scores[n][0]= n+1 # keep track of # of neighbores\n",
    "    clf = neighbors.KNeighborsClassifier(n+1)\n",
    "    for k in range(5): # go through each fold\n",
    "        clf.fit(train_X[k], train_y[k])  \n",
    "        my_scores[n][k+1]=clf.score(test_X[k], test_y[k])\n",
    "    my_scores[n][6] = np.mean(my_scores[n][1:6]) # keep track of average score of 5 fold\n",
    "    \n",
    "    if n== 0 :\n",
    "        my_scores_max.append((my_scores[n][0],my_scores[n][6]))\n",
    "    else:\n",
    "        if(my_scores[n][6] > my_scores_max[0][1]):\n",
    "            del my_scores_max[:]\n",
    "            my_scores_max.append((my_scores[n][0],my_scores[n][6]))\n",
    "        else:\n",
    "            if(my_scores[n][6] == my_scores_max[0][1]):\n",
    "                my_scores_max.append((my_scores[n][0],my_scores[n][6]))\n"
   ]
  },
  {
   "cell_type": "code",
   "execution_count": 181,
   "metadata": {
    "collapsed": false
   },
   "outputs": [
    {
     "name": "stdout",
     "output_type": "stream",
     "text": [
      "[(1.0, 0.92666666666666653)]\n"
     ]
    },
    {
     "data": {
      "text/plain": [
       "[<matplotlib.lines.Line2D at 0x19331e10>]"
      ]
     },
     "execution_count": 181,
     "metadata": {},
     "output_type": "execute_result"
    },
    {
     "data": {
      "image/png": "[encoded data removed]",
      "text/plain": [
       "<matplotlib.figure.Figure at 0x19274978>"
      ]
     },
     "metadata": {},
     "output_type": "display_data"
    }
   ],
   "source": [
    "print my_scores_max\n",
    "plt.plot(my_scores[:,0], my_scores[:,6], linewidth=3.0)"
   ]
  },
  {
   "cell_type": "code",
   "execution_count": null,
   "metadata": {
    "collapsed": true
   },
   "outputs": [],
   "source": []
  }
 ],
 "metadata": {
  "kernelspec": {
   "display_name": "Python 2",
   "language": "python",
   "name": "python2"
  },
  "language_info": {
   "codemirror_mode": {
    "name": "ipython",
    "version": 2
   },
   "file_extension": ".py",
   "mimetype": "text/x-python",
   "name": "python",
   "nbconvert_exporter": "python",
   "pygments_lexer": "ipython2",
   "version": "2.7.9"
  }
 },
 "nbformat": 4,
 "nbformat_minor": 0
}
