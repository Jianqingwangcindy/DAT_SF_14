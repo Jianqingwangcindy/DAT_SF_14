{
 "cells": [
  {
   "cell_type": "code",
   "execution_count": 8,
   "metadata": {
    "collapsed": false
   },
   "outputs": [
    {
     "name": "stdout",
     "output_type": "stream",
     "text": [
      "[ 0.          0.17241379  0.34482759  0.51724138  0.68965517  0.86206897\n",
      "  1.03448276  1.20689655  1.37931034  1.55172414  1.72413793  1.89655172\n",
      "  2.06896552  2.24137931  2.4137931   2.5862069   2.75862069  2.93103448\n",
      "  3.10344828  3.27586207  3.44827586  3.62068966  3.79310345  3.96551724\n",
      "  4.13793103  4.31034483  4.48275862  4.65517241  4.82758621  5.        ]\n",
      "[  0.           0.02972652   0.11890606   0.26753864   0.47562426\n",
      "   0.7431629    1.07015458   1.45659929   1.90249703   2.4078478\n",
      "   2.97265161   3.59690844   4.28061831   5.02378121   5.82639715\n",
      "   6.68846611   7.60998811   8.59096314   9.6313912   10.73127229\n",
      "  11.89060642  13.10939358  14.38763377  15.72532699  17.12247325\n",
      "  18.57907253  20.09512485  21.6706302   23.30558859  25.        ]\n",
      "<type 'numpy.ndarray'>\n",
      "<type 'numpy.ndarray'>\n"
     ]
    },
    {
     "data": {
      "image/png": "[encoded data removed]",
      "text/plain": [
       "<matplotlib.figure.Figure at 0xb0ff3c8>"
      ]
     },
     "metadata": {},
     "output_type": "display_data"
    }
   ],
   "source": [
    "# Import matplotlib (plotting) and numpy (numerical arrays).\n",
    "# This enables their use in the Notebook.\n",
    "%matplotlib inline\n",
    "import matplotlib.pyplot as plt \n",
    "import numpy as np\n",
    "\n",
    "# Create an array of 30 values for x equally spaced from 0 to 5. \n",
    "x = np.linspace(0, 5, 30)\n",
    "print x\n",
    "y = x**2\n",
    "print y\n",
    "print type(x)\n",
    "print type(y)\n",
    "\n",
    "x = [ 0,1,2,3,4]\n",
    "y = [ 0,1,2,3,4]\n",
    "\n",
    "\n",
    "# Plot y versus x\n",
    "fig, ax = plt.subplots(nrows=1, ncols=1)\n",
    "ax.plot(x, y, color='red')\n",
    "ax.set_xlabel('orignal x')\n",
    "ax.set_ylabel('orignal y')\n",
    "ax.set_title('A simple graph of $y=x^2$');"
   ]
  },
  {
   "cell_type": "markdown",
   "metadata": {},
   "source": [
    "### Can you plot the function of square root of x?"
   ]
  },
  {
   "cell_type": "code",
   "execution_count": null,
   "metadata": {
    "collapsed": false
   },
   "outputs": [],
   "source": []
  }
 ],
 "metadata": {
  "kernelspec": {
   "display_name": "Python 2",
   "language": "python",
   "name": "python2"
  },
  "language_info": {
   "codemirror_mode": {
    "name": "ipython",
    "version": 2
   },
   "file_extension": ".py",
   "mimetype": "text/x-python",
   "name": "python",
   "nbconvert_exporter": "python",
   "pygments_lexer": "ipython2",
   "version": "2.7.9"
  }
 },
 "nbformat": 4,
 "nbformat_minor": 0
}
