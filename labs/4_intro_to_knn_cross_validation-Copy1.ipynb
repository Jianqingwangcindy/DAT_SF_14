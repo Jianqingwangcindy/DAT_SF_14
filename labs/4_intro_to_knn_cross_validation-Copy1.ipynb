{
 "cells": [
  {
   "cell_type": "markdown",
   "metadata": {},
   "source": [
    "## Implementing the $k$-NN Classification"
   ]
  },
  {
   "cell_type": "markdown",
   "metadata": {},
   "source": [
    "* Apply the $k$-NN Algorithm\n",
    "* Using Cross Validation\n",
    "* Apply Scaling"
   ]
  },
  {
   "cell_type": "code",
   "execution_count": 1,
   "metadata": {
    "collapsed": false
   },
   "outputs": [],
   "source": [
    "%matplotlib inline\n",
    "from __future__ import division\n",
    "import pandas as pd\n",
    "import numpy as np\n",
    "#from seaborn import plt\n",
    "import matplotlib.pyplot as plt\n",
    "from sklearn.datasets import load_iris"
   ]
  },
  {
   "cell_type": "markdown",
   "metadata": {},
   "source": [
    "The common data set to validate classification algorithm's performance is the [Fisher Iris data set](http://en.wikipedia.org/wiki/Iris_flower_data_set), which is commonly included in most stats or machine learning packages."
   ]
  },
  {
   "cell_type": "code",
   "execution_count": 2,
   "metadata": {
    "collapsed": false
   },
   "outputs": [],
   "source": [
    "from matplotlib.colors import ListedColormap\n",
    "from sklearn import neighbors, datasets, feature_selection\n",
    "from sklearn.cross_validation import train_test_split, cross_val_score"
   ]
  },
  {
   "cell_type": "code",
   "execution_count": 3,
   "metadata": {
    "collapsed": false
   },
   "outputs": [
    {
     "name": "stdout",
     "output_type": "stream",
     "text": [
      "[1, 3, 5, 7, 9, 11, 13, 15, 17, 19, 21, 23, 25, 27, 29, 31, 33, 35, 37, 39, 41, 43, 45, 47, 49]\n"
     ]
    }
   ],
   "source": [
    "# the values of k in KNN\n",
    "# we will examin the performance on different k values and explore what value gives the best result\n",
    "n_neighbors = range(1, 51, 2)\n",
    "print n_neighbors"
   ]
  },
  {
   "cell_type": "code",
   "execution_count": 21,
   "metadata": {
    "collapsed": false
   },
   "outputs": [
    {
     "data": {
      "text/plain": [
       "array([0])"
      ]
     },
     "execution_count": 21,
     "metadata": {},
     "output_type": "execute_result"
    }
   ],
   "source": [
    "iris = datasets.load_iris()\n",
    "type(iris.target)\n",
    "iris.target.shape\n",
    "iris.target[0:1,]\n"
   ]
  },
  {
   "cell_type": "code",
   "execution_count": 22,
   "metadata": {
    "collapsed": false
   },
   "outputs": [
    {
     "name": "stdout",
     "output_type": "stream",
     "text": [
      "iris data head:\n",
      "   sepal length (cm)  sepal width (cm)  petal length (cm)  petal width (cm)  \\\n",
      "0                5.1               3.5                1.4               0.2   \n",
      "1                4.9               3.0                1.4               0.2   \n",
      "2                4.7               3.2                1.3               0.2   \n",
      "3                4.6               3.1                1.5               0.2   \n",
      "4                5.0               3.6                1.4               0.2   \n",
      "\n",
      "   Target  \n",
      "0       0  \n",
      "1       0  \n",
      "2       0  \n",
      "3       0  \n",
      "4       0  \n",
      "iris describe():\n",
      "       sepal length (cm)  sepal width (cm)  petal length (cm)  \\\n",
      "count         150.000000        150.000000         150.000000   \n",
      "mean            5.843333          3.054000           3.758667   \n",
      "std             0.828066          0.433594           1.764420   \n",
      "min             4.300000          2.000000           1.000000   \n",
      "25%             5.100000          2.800000           1.600000   \n",
      "50%             5.800000          3.000000           4.350000   \n",
      "75%             6.400000          3.300000           5.100000   \n",
      "max             7.900000          4.400000           6.900000   \n",
      "\n",
      "       petal width (cm)      Target  \n",
      "count        150.000000  150.000000  \n",
      "mean           1.198667    1.000000  \n",
      "std            0.763161    0.819232  \n",
      "min            0.100000    0.000000  \n",
      "25%            0.300000    0.000000  \n",
      "50%            1.300000    1.000000  \n",
      "75%            1.800000    2.000000  \n",
      "max            2.500000    2.000000  \n",
      "label set: array([0, 1, 2], dtype=int64)\n"
     ]
    }
   ],
   "source": [
    "# Load in the data\n",
    "iris = datasets.load_iris()\n",
    "iris_df = pd.DataFrame(iris.data, columns=iris.feature_names)\n",
    "\n",
    "#list(iris.target)\n",
    "iris_df['Target'] = iris.target\n",
    "\n",
    "#iris.\n",
    "print 'iris data head:'\n",
    "print iris_df.head()\n",
    "print 'iris describe():'\n",
    "print iris_df.describe()\n",
    "\n",
    "print \"label set: \" + repr(iris_df['Target'].unique())\n"
   ]
  },
  {
   "cell_type": "code",
   "execution_count": null,
   "metadata": {
    "collapsed": true
   },
   "outputs": [],
   "source": []
  },
  {
   "cell_type": "code",
   "execution_count": 23,
   "metadata": {
    "collapsed": false
   },
   "outputs": [
    {
     "data": {
      "text/plain": [
       "3.5"
      ]
     },
     "execution_count": 23,
     "metadata": {},
     "output_type": "execute_result"
    }
   ],
   "source": [
    "iris_df['sepal width (cm)'][0]"
   ]
  },
  {
   "cell_type": "code",
   "execution_count": 24,
   "metadata": {
    "collapsed": false
   },
   "outputs": [],
   "source": [
    "iris_df.plot?"
   ]
  },
  {
   "cell_type": "code",
   "execution_count": 28,
   "metadata": {
    "collapsed": false
   },
   "outputs": [
    {
     "data": {
      "image/png": "[encoded data removed]",
      "text/plain": [
       "<matplotlib.figure.Figure at 0x186fa898>"
      ]
     },
     "metadata": {},
     "output_type": "display_data"
    }
   ],
   "source": [
    "#Let's explore the data to get some intuition about it\n",
    "\n",
    "#we'll plot 2x3 figures (why?)\n",
    "fig, axes = plt.subplots(nrows=2, ncols=3)\n",
    "\n",
    "colors = ['r','g','b']\n",
    "for i in range(3): \n",
    "    tmp = iris_df[iris_df.Target == i]\n",
    "    tmp.plot(x=0,y=1, kind='scatter', c=colors[i], ax=axes[0,0])\n",
    "\n",
    "for i in range(3): \n",
    "    tmp = iris_df[iris_df.Target == i]\n",
    "    tmp.plot(x=0,y=2, kind='scatter', c=colors[i], ax=axes[0,1])\n",
    "\n",
    "for i in range(3): \n",
    "    tmp = iris_df[iris_df.Target == i]\n",
    "    tmp.plot(x=0,y=3, kind='scatter', c=colors[i], ax=axes[0,2])\n",
    "    \n",
    "for i in range(3): \n",
    "    tmp = iris_df[iris_df.Target == i]\n",
    "    tmp.plot(x=1,y=2, kind='scatter', c=colors[i], ax=axes[1,0])\n",
    "\n",
    "for i in range(3): \n",
    "    tmp = iris_df[iris_df.Target == i]\n",
    "    tmp.plot(x=1,y=3, kind='scatter', c=colors[i], ax=axes[1,1])\n",
    "\n",
    "for i in range(3): \n",
    "    tmp = iris_df[iris_df.Target == i]\n",
    "    tmp.plot(x=2,y=3, kind='scatter', c=colors[i], ax=axes[1,2])\n"
   ]
  },
  {
   "cell_type": "code",
   "execution_count": 27,
   "metadata": {
    "collapsed": false
   },
   "outputs": [
    {
     "data": {
      "text/plain": [
       "tuple"
      ]
     },
     "execution_count": 27,
     "metadata": {},
     "output_type": "execute_result"
    },
    {
     "data": {
      "image/png": "[encoded data removed]",
      "text/plain": [
       "<matplotlib.figure.Figure at 0x17cfaa20>"
      ]
     },
     "metadata": {},
     "output_type": "display_data"
    }
   ],
   "source": [
    "type(plt.subplots(nrows=2, ncols=3))"
   ]
  },
  {
   "cell_type": "markdown",
   "metadata": {},
   "source": [
    "### Parameter Search"
   ]
  },
  {
   "cell_type": "code",
   "execution_count": 25,
   "metadata": {
    "collapsed": false
   },
   "outputs": [
    {
     "name": "stdout",
     "output_type": "stream",
     "text": [
      "105\n",
      "45\n"
     ]
    }
   ],
   "source": [
    "# Create the training (and test) set using scikit-learn's train_test_split function\n",
    "X_train, X_test, y_train, y_test = train_test_split(iris.data, iris.target, test_size=0.3, random_state=12)\n",
    "print len(y_train)\n",
    "print len(y_test)\n",
    "\n",
    "\n",
    "# Try this sequence again with the following random seed.\n",
    "# observe how it changes the scores of K quite dramatically\n",
    "# X_train, X_test, y_train, y_test = train_test_split(iris.data, iris.target, test_size=0.3, random_state=8)"
   ]
  },
  {
   "cell_type": "code",
   "execution_count": 26,
   "metadata": {
    "collapsed": false
   },
   "outputs": [
    {
     "name": "stdout",
     "output_type": "stream",
     "text": [
      "[0.97777777777777775, 0.97777777777777775, 0.97777777777777775, 0.97777777777777775, 0.97777777777777775, 1.0, 0.97777777777777775, 0.97777777777777775, 0.97777777777777775, 0.97777777777777775, 0.97777777777777775, 0.9555555555555556, 0.9555555555555556, 0.9555555555555556, 0.9555555555555556, 0.9555555555555556, 0.9555555555555556, 0.9555555555555556, 0.9555555555555556, 0.9555555555555556, 0.93333333333333335, 0.9555555555555556, 0.93333333333333335, 0.93333333333333335, 0.93333333333333335]\n"
     ]
    }
   ],
   "source": [
    "# Loop through each neighbors value from 1 to 51 and append\n",
    "# the scores\n",
    "scores = []\n",
    "for n in n_neighbors:\n",
    "    clf = neighbors.KNeighborsClassifier(n)\n",
    "    clf.fit(X_train, y_train)\n",
    "    scores.append(clf.score(X_test, y_test))\n",
    "print scores"
   ]
  },
  {
   "cell_type": "code",
   "execution_count": 9,
   "metadata": {
    "collapsed": false
   },
   "outputs": [
    {
     "data": {
      "text/plain": [
       "[<matplotlib.lines.Line2D at 0x18abd978>]"
      ]
     },
     "execution_count": 9,
     "metadata": {},
     "output_type": "execute_result"
    },
    {
     "data": {
      "image/png": "[encoded data removed]",
      "text/plain": [
       "<matplotlib.figure.Figure at 0x17ed94e0>"
      ]
     },
     "metadata": {},
     "output_type": "display_data"
    }
   ],
   "source": [
    "plt.plot(n_neighbors, scores, linewidth=3.0)"
   ]
  },
  {
   "cell_type": "code",
   "execution_count": null,
   "metadata": {
    "collapsed": false
   },
   "outputs": [],
   "source": [
    "#Why does the classification rate go down with more neighbors?\n",
    "\n",
    "\n",
    "\n",
    "#If we have N points in our dataset, what would happen if we use N neighbors\n",
    "#to classify each point\n",
    "\n",
    "\n"
   ]
  },
  {
   "cell_type": "code",
   "execution_count": 28,
   "metadata": {
    "collapsed": false
   },
   "outputs": [
    {
     "data": {
      "text/plain": [
       "array([[ 5.1,  3.5,  1.4,  0.2]])"
      ]
     },
     "execution_count": 28,
     "metadata": {},
     "output_type": "execute_result"
    }
   ],
   "source": [
    "from sklearn.datasets import load_iris\n",
    "iris = datasets.load_iris()\n",
    "iris_df = pd.DataFrame(iris.data, columns=iris.feature_names)\n",
    "type(iris_df.values)\n",
    "iris_df.values[0:1]"
   ]
  },
  {
   "cell_type": "markdown",
   "metadata": {},
   "source": [
    "### Application of Cross Validation"
   ]
  },
  {
   "cell_type": "markdown",
   "metadata": {},
   "source": [
    "The work above shows that at 11 neighbors, we can get an ideal result that doesn't overfit the data. To verify this, we'll use cross validation."
   ]
  },
  {
   "cell_type": "code",
   "execution_count": 29,
   "metadata": {
    "collapsed": false
   },
   "outputs": [],
   "source": [
    "from sklearn.datasets import load_iris\n",
    "iris = datasets.load_iris()\n",
    "iris_df = pd.DataFrame(iris.data, columns=iris.feature_names)\n",
    "\n",
    "from sklearn.cross_validation import cross_val_score\n",
    "clf = neighbors.KNeighborsClassifier(11, weights='uniform')\n",
    "clf.fit(iris.data, iris.target)\n",
    "scores = cross_val_score(clf, iris_df.values, iris.target, cv=5)\n"
   ]
  },
  {
   "cell_type": "code",
   "execution_count": 30,
   "metadata": {
    "collapsed": false
   },
   "outputs": [
    {
     "name": "stdout",
     "output_type": "stream",
     "text": [
      "[ 0.93333333  1.          1.          0.96666667  1.        ]\n",
      "0.98\n"
     ]
    }
   ],
   "source": [
    "print scores\n",
    "print scores.mean()"
   ]
  },
  {
   "cell_type": "markdown",
   "metadata": {},
   "source": [
    "# Visualizaiton of the Decision Boundary between Classes"
   ]
  },
  {
   "cell_type": "markdown",
   "metadata": {},
   "source": [
    "### We will just consider the last two features of the dataset for this visualization"
   ]
  },
  {
   "cell_type": "code",
   "execution_count": 31,
   "metadata": {
    "collapsed": false
   },
   "outputs": [
    {
     "data": {
      "text/plain": [
       "KNeighborsClassifier(algorithm='auto', leaf_size=30, metric='minkowski',\n",
       "           metric_params=None, n_neighbors=11, p=2, weights='uniform')"
      ]
     },
     "execution_count": 31,
     "metadata": {},
     "output_type": "execute_result"
    }
   ],
   "source": [
    "clf = neighbors.KNeighborsClassifier(11, weights='uniform')\n",
    "clf.fit(iris.data[:, 2:4], iris.target)"
   ]
  },
  {
   "cell_type": "code",
   "execution_count": 32,
   "metadata": {
    "collapsed": false
   },
   "outputs": [],
   "source": [
    "h = 0.01  # step size in the mesh\n",
    "# Create color maps\n",
    "cmap_light = ListedColormap(['#FFAAAA', '#AAFFAA', '#AAAAFF'])\n",
    "cmap_bold = ListedColormap(['#FF0000', '#00FF00', '#0000FF'])"
   ]
  },
  {
   "cell_type": "code",
   "execution_count": 35,
   "metadata": {
    "collapsed": false
   },
   "outputs": [
    {
     "data": {
      "text/plain": [
       "sepal length (cm)    4.3\n",
       "sepal width (cm)     2.0\n",
       "petal length (cm)    1.0\n",
       "petal width (cm)     0.1\n",
       "dtype: float64"
      ]
     },
     "execution_count": 35,
     "metadata": {},
     "output_type": "execute_result"
    }
   ],
   "source": [
    "iris_df.min()"
   ]
  },
  {
   "cell_type": "code",
   "execution_count": 55,
   "metadata": {
    "collapsed": false
   },
   "outputs": [
    {
     "name": "stdout",
     "output_type": "stream",
     "text": [
      "1.0 0.1\n",
      "6.9 2.5\n"
     ]
    }
   ],
   "source": [
    "# Plot the decision boundary. For that, we will assign a color to each\n",
    "# point in the mesh [x_min, m_max]x[y_min, y_max].\n",
    "x_min, y_min = iris_df.min()[['petal length (cm)', 'petal width (cm)']]\n",
    "x_max, y_max = iris_df.max()[['petal length (cm)', 'petal width (cm)']]\n",
    "print x_min, y_min\n",
    "print x_max, y_max\n"
   ]
  },
  {
   "cell_type": "markdown",
   "metadata": {},
   "source": [
    "* [np.meshgrid](http://docs.scipy.org/doc/numpy/reference/generated/numpy.meshgrid.html) (build grid)\n",
    "* [ravel](http://docs.scipy.org/doc/numpy/reference/generated/numpy.ravel.html) (flatten)\n",
    "* [np.c_](http://docs.scipy.org/doc/numpy-1.6.0/reference/generated/numpy.c_.html#numpy.c_)\n",
    "    * `np.c_[np.array([1,2,3]), np.array([4,5,6])]` will get `[[1, 4],[2, 5],[3, 6]]`"
   ]
  },
  {
   "cell_type": "code",
   "execution_count": 56,
   "metadata": {
    "collapsed": false
   },
   "outputs": [
    {
     "name": "stdout",
     "output_type": "stream",
     "text": [
      "(240L, 590L)\n",
      "(240L, 590L)\n",
      "(141600L,)\n"
     ]
    }
   ],
   "source": [
    "xx, yy = np.meshgrid(np.arange(x_min, x_max, h), np.arange(y_min, y_max, h))\n",
    "print xx.shape\n",
    "print yy.shape\n",
    "xx[1:2,]\n",
    "Z = clf.predict(np.c_[xx.ravel(), yy.ravel()])\n",
    "print Z.shape"
   ]
  },
  {
   "cell_type": "code",
   "execution_count": 57,
   "metadata": {
    "collapsed": false
   },
   "outputs": [],
   "source": [
    "# Put the result into a color plot\n",
    "Z = Z.reshape(xx.shape)"
   ]
  },
  {
   "cell_type": "code",
   "execution_count": 18,
   "metadata": {
    "collapsed": false
   },
   "outputs": [
    {
     "data": {
      "text/plain": [
       "<matplotlib.collections.QuadMesh at 0x194f8588>"
      ]
     },
     "execution_count": 18,
     "metadata": {},
     "output_type": "execute_result"
    },
    {
     "data": {
      "image/png": "[encoded data removed]",
      "text/plain": [
       "<matplotlib.figure.Figure at 0x17e4eb70>"
      ]
     },
     "metadata": {},
     "output_type": "display_data"
    }
   ],
   "source": [
    "plt.figure(figsize=(18,6))\n",
    "plt.pcolormesh(xx, yy, Z, cmap=cmap_light)"
   ]
  },
  {
   "cell_type": "code",
   "execution_count": 61,
   "metadata": {
    "collapsed": false
   },
   "outputs": [
    {
     "data": {
      "text/plain": [
       "<matplotlib.text.Text at 0x18625c18>"
      ]
     },
     "execution_count": 61,
     "metadata": {},
     "output_type": "execute_result"
    },
    {
     "data": {
      "image/png": "[encoded data removed]",
      "text/plain": [
       "<matplotlib.figure.Figure at 0x184bde80>"
      ]
     },
     "metadata": {},
     "output_type": "display_data"
    }
   ],
   "source": [
    "# Plot also the training points\n",
    "plt.figure(figsize=(18,6))\n",
    "plt.pcolormesh(xx, yy, Z, cmap=cmap_light)\n",
    "plt.scatter(iris_df['petal length (cm)'], iris_df['petal width (cm)'], c=iris.target, cmap=cmap_bold)\n",
    "plt.xlim(xx.min(), xx.max())\n",
    "plt.ylim(yy.min(), yy.max())\n",
    "plt.title(\"3-Class classification (k = {}, weights = '{}')\".format(clf.n_neighbors, clf.weights))"
   ]
  },
  {
   "cell_type": "markdown",
   "metadata": {},
   "source": [
    "### Scaling"
   ]
  },
  {
   "cell_type": "code",
   "execution_count": 60,
   "metadata": {
    "collapsed": false,
    "scrolled": true
   },
   "outputs": [
    {
     "data": {
      "text/html": [
       "<div style=\"max-height:1000px;max-width:1500px;overflow:auto;\">\n",
       "<table border=\"1\" class=\"dataframe\">\n",
       "  <thead>\n",
       "    <tr style=\"text-align: right;\">\n",
       "      <th></th>\n",
       "      <th>sepal length (cm)</th>\n",
       "      <th>sepal width (cm)</th>\n",
       "      <th>petal length (cm)</th>\n",
       "      <th>petal width (cm)</th>\n",
       "    </tr>\n",
       "  </thead>\n",
       "  <tbody>\n",
       "    <tr>\n",
       "      <th>count</th>\n",
       "      <td> 150.000000</td>\n",
       "      <td> 150.000000</td>\n",
       "      <td> 150.000000</td>\n",
       "      <td> 150.000000</td>\n",
       "    </tr>\n",
       "    <tr>\n",
       "      <th>mean</th>\n",
       "      <td>   5.843333</td>\n",
       "      <td>   3.054000</td>\n",
       "      <td>   3.758667</td>\n",
       "      <td>   1.198667</td>\n",
       "    </tr>\n",
       "    <tr>\n",
       "      <th>std</th>\n",
       "      <td>   0.828066</td>\n",
       "      <td>   0.433594</td>\n",
       "      <td>   1.764420</td>\n",
       "      <td>   0.763161</td>\n",
       "    </tr>\n",
       "    <tr>\n",
       "      <th>min</th>\n",
       "      <td>   4.300000</td>\n",
       "      <td>   2.000000</td>\n",
       "      <td>   1.000000</td>\n",
       "      <td>   0.100000</td>\n",
       "    </tr>\n",
       "    <tr>\n",
       "      <th>25%</th>\n",
       "      <td>   5.100000</td>\n",
       "      <td>   2.800000</td>\n",
       "      <td>   1.600000</td>\n",
       "      <td>   0.300000</td>\n",
       "    </tr>\n",
       "    <tr>\n",
       "      <th>50%</th>\n",
       "      <td>   5.800000</td>\n",
       "      <td>   3.000000</td>\n",
       "      <td>   4.350000</td>\n",
       "      <td>   1.300000</td>\n",
       "    </tr>\n",
       "    <tr>\n",
       "      <th>75%</th>\n",
       "      <td>   6.400000</td>\n",
       "      <td>   3.300000</td>\n",
       "      <td>   5.100000</td>\n",
       "      <td>   1.800000</td>\n",
       "    </tr>\n",
       "    <tr>\n",
       "      <th>max</th>\n",
       "      <td>   7.900000</td>\n",
       "      <td>   4.400000</td>\n",
       "      <td>   6.900000</td>\n",
       "      <td>   2.500000</td>\n",
       "    </tr>\n",
       "  </tbody>\n",
       "</table>\n",
       "</div>"
      ],
      "text/plain": [
       "       sepal length (cm)  sepal width (cm)  petal length (cm)  \\\n",
       "count         150.000000        150.000000         150.000000   \n",
       "mean            5.843333          3.054000           3.758667   \n",
       "std             0.828066          0.433594           1.764420   \n",
       "min             4.300000          2.000000           1.000000   \n",
       "25%             5.100000          2.800000           1.600000   \n",
       "50%             5.800000          3.000000           4.350000   \n",
       "75%             6.400000          3.300000           5.100000   \n",
       "max             7.900000          4.400000           6.900000   \n",
       "\n",
       "       petal width (cm)  \n",
       "count        150.000000  \n",
       "mean           1.198667  \n",
       "std            0.763161  \n",
       "min            0.100000  \n",
       "25%            0.300000  \n",
       "50%            1.300000  \n",
       "75%            1.800000  \n",
       "max            2.500000  "
      ]
     },
     "execution_count": 60,
     "metadata": {},
     "output_type": "execute_result"
    }
   ],
   "source": [
    "iris_df.describe()"
   ]
  },
  {
   "cell_type": "code",
   "execution_count": 62,
   "metadata": {
    "collapsed": false
   },
   "outputs": [],
   "source": [
    "from sklearn.preprocessing import scale"
   ]
  },
  {
   "cell_type": "code",
   "execution_count": 63,
   "metadata": {
    "collapsed": false
   },
   "outputs": [],
   "source": [
    "df_norm = pd.DataFrame(scale(iris.data), columns=iris.feature_names)"
   ]
  },
  {
   "cell_type": "code",
   "execution_count": 64,
   "metadata": {
    "collapsed": false
   },
   "outputs": [
    {
     "data": {
      "text/html": [
       "<div style=\"max-height:1000px;max-width:1500px;overflow:auto;\">\n",
       "<table border=\"1\" class=\"dataframe\">\n",
       "  <thead>\n",
       "    <tr style=\"text-align: right;\">\n",
       "      <th></th>\n",
       "      <th>sepal length (cm)</th>\n",
       "      <th>sepal width (cm)</th>\n",
       "      <th>petal length (cm)</th>\n",
       "      <th>petal width (cm)</th>\n",
       "    </tr>\n",
       "  </thead>\n",
       "  <tbody>\n",
       "    <tr>\n",
       "      <th>0</th>\n",
       "      <td>-0.900681</td>\n",
       "      <td> 1.032057</td>\n",
       "      <td>-1.341272</td>\n",
       "      <td>-1.312977</td>\n",
       "    </tr>\n",
       "    <tr>\n",
       "      <th>1</th>\n",
       "      <td>-1.143017</td>\n",
       "      <td>-0.124958</td>\n",
       "      <td>-1.341272</td>\n",
       "      <td>-1.312977</td>\n",
       "    </tr>\n",
       "    <tr>\n",
       "      <th>2</th>\n",
       "      <td>-1.385353</td>\n",
       "      <td> 0.337848</td>\n",
       "      <td>-1.398138</td>\n",
       "      <td>-1.312977</td>\n",
       "    </tr>\n",
       "    <tr>\n",
       "      <th>3</th>\n",
       "      <td>-1.506521</td>\n",
       "      <td> 0.106445</td>\n",
       "      <td>-1.284407</td>\n",
       "      <td>-1.312977</td>\n",
       "    </tr>\n",
       "    <tr>\n",
       "      <th>4</th>\n",
       "      <td>-1.021849</td>\n",
       "      <td> 1.263460</td>\n",
       "      <td>-1.341272</td>\n",
       "      <td>-1.312977</td>\n",
       "    </tr>\n",
       "  </tbody>\n",
       "</table>\n",
       "</div>"
      ],
      "text/plain": [
       "   sepal length (cm)  sepal width (cm)  petal length (cm)  petal width (cm)\n",
       "0          -0.900681          1.032057          -1.341272         -1.312977\n",
       "1          -1.143017         -0.124958          -1.341272         -1.312977\n",
       "2          -1.385353          0.337848          -1.398138         -1.312977\n",
       "3          -1.506521          0.106445          -1.284407         -1.312977\n",
       "4          -1.021849          1.263460          -1.341272         -1.312977"
      ]
     },
     "execution_count": 64,
     "metadata": {},
     "output_type": "execute_result"
    }
   ],
   "source": [
    "df_norm.head()"
   ]
  },
  {
   "cell_type": "code",
   "execution_count": 65,
   "metadata": {
    "collapsed": false
   },
   "outputs": [
    {
     "data": {
      "text/html": [
       "<div style=\"max-height:1000px;max-width:1500px;overflow:auto;\">\n",
       "<table border=\"1\" class=\"dataframe\">\n",
       "  <thead>\n",
       "    <tr style=\"text-align: right;\">\n",
       "      <th></th>\n",
       "      <th>sepal length (cm)</th>\n",
       "      <th>sepal width (cm)</th>\n",
       "      <th>petal length (cm)</th>\n",
       "      <th>petal width (cm)</th>\n",
       "    </tr>\n",
       "  </thead>\n",
       "  <tbody>\n",
       "    <tr>\n",
       "      <th>count</th>\n",
       "      <td> 1.500000e+02</td>\n",
       "      <td> 1.500000e+02</td>\n",
       "      <td> 1.500000e+02</td>\n",
       "      <td> 1.500000e+02</td>\n",
       "    </tr>\n",
       "    <tr>\n",
       "      <th>mean</th>\n",
       "      <td>-1.468455e-15</td>\n",
       "      <td>-1.657933e-15</td>\n",
       "      <td>-1.515825e-15</td>\n",
       "      <td>-8.052818e-16</td>\n",
       "    </tr>\n",
       "    <tr>\n",
       "      <th>std</th>\n",
       "      <td> 1.003350e+00</td>\n",
       "      <td> 1.003350e+00</td>\n",
       "      <td> 1.003350e+00</td>\n",
       "      <td> 1.003350e+00</td>\n",
       "    </tr>\n",
       "    <tr>\n",
       "      <th>min</th>\n",
       "      <td>-1.870024e+00</td>\n",
       "      <td>-2.438987e+00</td>\n",
       "      <td>-1.568735e+00</td>\n",
       "      <td>-1.444450e+00</td>\n",
       "    </tr>\n",
       "    <tr>\n",
       "      <th>25%</th>\n",
       "      <td>-9.006812e-01</td>\n",
       "      <td>-5.877635e-01</td>\n",
       "      <td>-1.227541e+00</td>\n",
       "      <td>-1.181504e+00</td>\n",
       "    </tr>\n",
       "    <tr>\n",
       "      <th>50%</th>\n",
       "      <td>-5.250608e-02</td>\n",
       "      <td>-1.249576e-01</td>\n",
       "      <td> 3.362659e-01</td>\n",
       "      <td> 1.332259e-01</td>\n",
       "    </tr>\n",
       "    <tr>\n",
       "      <th>75%</th>\n",
       "      <td> 6.745011e-01</td>\n",
       "      <td> 5.692513e-01</td>\n",
       "      <td> 7.627586e-01</td>\n",
       "      <td> 7.905908e-01</td>\n",
       "    </tr>\n",
       "    <tr>\n",
       "      <th>max</th>\n",
       "      <td> 2.492019e+00</td>\n",
       "      <td> 3.114684e+00</td>\n",
       "      <td> 1.786341e+00</td>\n",
       "      <td> 1.710902e+00</td>\n",
       "    </tr>\n",
       "  </tbody>\n",
       "</table>\n",
       "</div>"
      ],
      "text/plain": [
       "       sepal length (cm)  sepal width (cm)  petal length (cm)  \\\n",
       "count       1.500000e+02      1.500000e+02       1.500000e+02   \n",
       "mean       -1.468455e-15     -1.657933e-15      -1.515825e-15   \n",
       "std         1.003350e+00      1.003350e+00       1.003350e+00   \n",
       "min        -1.870024e+00     -2.438987e+00      -1.568735e+00   \n",
       "25%        -9.006812e-01     -5.877635e-01      -1.227541e+00   \n",
       "50%        -5.250608e-02     -1.249576e-01       3.362659e-01   \n",
       "75%         6.745011e-01      5.692513e-01       7.627586e-01   \n",
       "max         2.492019e+00      3.114684e+00       1.786341e+00   \n",
       "\n",
       "       petal width (cm)  \n",
       "count      1.500000e+02  \n",
       "mean      -8.052818e-16  \n",
       "std        1.003350e+00  \n",
       "min       -1.444450e+00  \n",
       "25%       -1.181504e+00  \n",
       "50%        1.332259e-01  \n",
       "75%        7.905908e-01  \n",
       "max        1.710902e+00  "
      ]
     },
     "execution_count": 65,
     "metadata": {},
     "output_type": "execute_result"
    }
   ],
   "source": [
    "df_norm.describe()"
   ]
  },
  {
   "cell_type": "code",
   "execution_count": 66,
   "metadata": {
    "collapsed": false
   },
   "outputs": [],
   "source": [
    "iris = datasets.load_iris()\n",
    "df_norm['Target'] = iris.target\n"
   ]
  },
  {
   "cell_type": "code",
   "execution_count": 36,
   "metadata": {
    "collapsed": false
   },
   "outputs": [
    {
     "data": {
      "text/html": [
       "<div style=\"max-height:1000px;max-width:1500px;overflow:auto;\">\n",
       "<table border=\"1\" class=\"dataframe\">\n",
       "  <thead>\n",
       "    <tr style=\"text-align: right;\">\n",
       "      <th></th>\n",
       "      <th>sepal length (cm)</th>\n",
       "      <th>sepal width (cm)</th>\n",
       "      <th>petal length (cm)</th>\n",
       "      <th>petal width (cm)</th>\n",
       "      <th>Target</th>\n",
       "    </tr>\n",
       "  </thead>\n",
       "  <tbody>\n",
       "    <tr>\n",
       "      <th>count</th>\n",
       "      <td> 1.500000e+02</td>\n",
       "      <td> 1.500000e+02</td>\n",
       "      <td> 1.500000e+02</td>\n",
       "      <td> 1.500000e+02</td>\n",
       "      <td> 150.000000</td>\n",
       "    </tr>\n",
       "    <tr>\n",
       "      <th>mean</th>\n",
       "      <td>-1.468455e-15</td>\n",
       "      <td>-1.657933e-15</td>\n",
       "      <td>-1.515825e-15</td>\n",
       "      <td>-8.052818e-16</td>\n",
       "      <td>   1.000000</td>\n",
       "    </tr>\n",
       "    <tr>\n",
       "      <th>std</th>\n",
       "      <td> 1.003350e+00</td>\n",
       "      <td> 1.003350e+00</td>\n",
       "      <td> 1.003350e+00</td>\n",
       "      <td> 1.003350e+00</td>\n",
       "      <td>   0.819232</td>\n",
       "    </tr>\n",
       "    <tr>\n",
       "      <th>min</th>\n",
       "      <td>-1.870024e+00</td>\n",
       "      <td>-2.438987e+00</td>\n",
       "      <td>-1.568735e+00</td>\n",
       "      <td>-1.444450e+00</td>\n",
       "      <td>   0.000000</td>\n",
       "    </tr>\n",
       "    <tr>\n",
       "      <th>25%</th>\n",
       "      <td>-9.006812e-01</td>\n",
       "      <td>-5.877635e-01</td>\n",
       "      <td>-1.227541e+00</td>\n",
       "      <td>-1.181504e+00</td>\n",
       "      <td>   0.000000</td>\n",
       "    </tr>\n",
       "    <tr>\n",
       "      <th>50%</th>\n",
       "      <td>-5.250608e-02</td>\n",
       "      <td>-1.249576e-01</td>\n",
       "      <td> 3.362659e-01</td>\n",
       "      <td> 1.332259e-01</td>\n",
       "      <td>   1.000000</td>\n",
       "    </tr>\n",
       "    <tr>\n",
       "      <th>75%</th>\n",
       "      <td> 6.745011e-01</td>\n",
       "      <td> 5.692513e-01</td>\n",
       "      <td> 7.627586e-01</td>\n",
       "      <td> 7.905908e-01</td>\n",
       "      <td>   2.000000</td>\n",
       "    </tr>\n",
       "    <tr>\n",
       "      <th>max</th>\n",
       "      <td> 2.492019e+00</td>\n",
       "      <td> 3.114684e+00</td>\n",
       "      <td> 1.786341e+00</td>\n",
       "      <td> 1.710902e+00</td>\n",
       "      <td>   2.000000</td>\n",
       "    </tr>\n",
       "  </tbody>\n",
       "</table>\n",
       "</div>"
      ],
      "text/plain": [
       "       sepal length (cm)  sepal width (cm)  petal length (cm)  \\\n",
       "count       1.500000e+02      1.500000e+02       1.500000e+02   \n",
       "mean       -1.468455e-15     -1.657933e-15      -1.515825e-15   \n",
       "std         1.003350e+00      1.003350e+00       1.003350e+00   \n",
       "min        -1.870024e+00     -2.438987e+00      -1.568735e+00   \n",
       "25%        -9.006812e-01     -5.877635e-01      -1.227541e+00   \n",
       "50%        -5.250608e-02     -1.249576e-01       3.362659e-01   \n",
       "75%         6.745011e-01      5.692513e-01       7.627586e-01   \n",
       "max         2.492019e+00      3.114684e+00       1.786341e+00   \n",
       "\n",
       "       petal width (cm)      Target  \n",
       "count      1.500000e+02  150.000000  \n",
       "mean      -8.052818e-16    1.000000  \n",
       "std        1.003350e+00    0.819232  \n",
       "min       -1.444450e+00    0.000000  \n",
       "25%       -1.181504e+00    0.000000  \n",
       "50%        1.332259e-01    1.000000  \n",
       "75%        7.905908e-01    2.000000  \n",
       "max        1.710902e+00    2.000000  "
      ]
     },
     "execution_count": 36,
     "metadata": {},
     "output_type": "execute_result"
    }
   ],
   "source": [
    "df_norm.describe()"
   ]
  },
  {
   "cell_type": "code",
   "execution_count": 37,
   "metadata": {
    "collapsed": false
   },
   "outputs": [
    {
     "data": {
      "image/png": "[encoded data removed]",
      "text/plain": [
       "<matplotlib.figure.Figure at 0x19765ac8>"
      ]
     },
     "metadata": {},
     "output_type": "display_data"
    }
   ],
   "source": [
    "#Let's explore the data to get some intuition about it\n",
    "\n",
    "#we'll plot 2x3 figures (why?)\n",
    "fig, axes = plt.subplots(nrows=2, ncols=3)\n",
    "\n",
    "colors = ['r','g','b']\n",
    "for i in range(3): \n",
    "    tmp = df_norm[df_norm.Target == i]\n",
    "    tmp.plot(x=0,y=1, kind='scatter', c=colors[i], ax=axes[0,0])\n",
    "\n",
    "for i in range(3): \n",
    "    tmp = df_norm[df_norm.Target == i]\n",
    "    tmp.plot(x=0,y=2, kind='scatter', c=colors[i], ax=axes[0,1])\n",
    "\n",
    "for i in range(3): \n",
    "    tmp = df_norm[df_norm.Target == i]\n",
    "    tmp.plot(x=0,y=3, kind='scatter', c=colors[i], ax=axes[0,2])\n",
    "    \n",
    "for i in range(3): \n",
    "    tmp = df_norm[df_norm.Target == i]\n",
    "    tmp.plot(x=1,y=2, kind='scatter', c=colors[i], ax=axes[1,0])\n",
    "\n",
    "for i in range(3): \n",
    "    tmp = df_norm[df_norm.Target == i]\n",
    "    tmp.plot(x=1,y=3, kind='scatter', c=colors[i], ax=axes[1,1])\n",
    "\n",
    "for i in range(3): \n",
    "    tmp = df_norm[df_norm.Target == i]\n",
    "    tmp.plot(x=2,y=3, kind='scatter', c=colors[i], ax=axes[1,2])"
   ]
  },
  {
   "cell_type": "code",
   "execution_count": 46,
   "metadata": {
    "collapsed": false
   },
   "outputs": [
    {
     "data": {
      "text/html": [
       "<div style=\"max-height:1000px;max-width:1500px;overflow:auto;\">\n",
       "<table border=\"1\" class=\"dataframe\">\n",
       "  <thead>\n",
       "    <tr style=\"text-align: right;\">\n",
       "      <th></th>\n",
       "      <th>sepal length (cm)</th>\n",
       "      <th>sepal width (cm)</th>\n",
       "      <th>petal length (cm)</th>\n",
       "      <th>petal width (cm)</th>\n",
       "    </tr>\n",
       "  </thead>\n",
       "  <tbody>\n",
       "    <tr>\n",
       "      <th>0  </th>\n",
       "      <td>-0.900681</td>\n",
       "      <td> 1.032057</td>\n",
       "      <td>-1.341272</td>\n",
       "      <td>-1.312977</td>\n",
       "    </tr>\n",
       "    <tr>\n",
       "      <th>1  </th>\n",
       "      <td>-1.143017</td>\n",
       "      <td>-0.124958</td>\n",
       "      <td>-1.341272</td>\n",
       "      <td>-1.312977</td>\n",
       "    </tr>\n",
       "    <tr>\n",
       "      <th>2  </th>\n",
       "      <td>-1.385353</td>\n",
       "      <td> 0.337848</td>\n",
       "      <td>-1.398138</td>\n",
       "      <td>-1.312977</td>\n",
       "    </tr>\n",
       "    <tr>\n",
       "      <th>3  </th>\n",
       "      <td>-1.506521</td>\n",
       "      <td> 0.106445</td>\n",
       "      <td>-1.284407</td>\n",
       "      <td>-1.312977</td>\n",
       "    </tr>\n",
       "    <tr>\n",
       "      <th>4  </th>\n",
       "      <td>-1.021849</td>\n",
       "      <td> 1.263460</td>\n",
       "      <td>-1.341272</td>\n",
       "      <td>-1.312977</td>\n",
       "    </tr>\n",
       "    <tr>\n",
       "      <th>5  </th>\n",
       "      <td>-0.537178</td>\n",
       "      <td> 1.957669</td>\n",
       "      <td>-1.170675</td>\n",
       "      <td>-1.050031</td>\n",
       "    </tr>\n",
       "    <tr>\n",
       "      <th>6  </th>\n",
       "      <td>-1.506521</td>\n",
       "      <td> 0.800654</td>\n",
       "      <td>-1.341272</td>\n",
       "      <td>-1.181504</td>\n",
       "    </tr>\n",
       "    <tr>\n",
       "      <th>7  </th>\n",
       "      <td>-1.021849</td>\n",
       "      <td> 0.800654</td>\n",
       "      <td>-1.284407</td>\n",
       "      <td>-1.312977</td>\n",
       "    </tr>\n",
       "    <tr>\n",
       "      <th>8  </th>\n",
       "      <td>-1.748856</td>\n",
       "      <td>-0.356361</td>\n",
       "      <td>-1.341272</td>\n",
       "      <td>-1.312977</td>\n",
       "    </tr>\n",
       "    <tr>\n",
       "      <th>9  </th>\n",
       "      <td>-1.143017</td>\n",
       "      <td> 0.106445</td>\n",
       "      <td>-1.284407</td>\n",
       "      <td>-1.444450</td>\n",
       "    </tr>\n",
       "    <tr>\n",
       "      <th>10 </th>\n",
       "      <td>-0.537178</td>\n",
       "      <td> 1.494863</td>\n",
       "      <td>-1.284407</td>\n",
       "      <td>-1.312977</td>\n",
       "    </tr>\n",
       "    <tr>\n",
       "      <th>11 </th>\n",
       "      <td>-1.264185</td>\n",
       "      <td> 0.800654</td>\n",
       "      <td>-1.227541</td>\n",
       "      <td>-1.312977</td>\n",
       "    </tr>\n",
       "    <tr>\n",
       "      <th>12 </th>\n",
       "      <td>-1.264185</td>\n",
       "      <td>-0.124958</td>\n",
       "      <td>-1.341272</td>\n",
       "      <td>-1.444450</td>\n",
       "    </tr>\n",
       "    <tr>\n",
       "      <th>13 </th>\n",
       "      <td>-1.870024</td>\n",
       "      <td>-0.124958</td>\n",
       "      <td>-1.511870</td>\n",
       "      <td>-1.444450</td>\n",
       "    </tr>\n",
       "    <tr>\n",
       "      <th>14 </th>\n",
       "      <td>-0.052506</td>\n",
       "      <td> 2.189072</td>\n",
       "      <td>-1.455004</td>\n",
       "      <td>-1.312977</td>\n",
       "    </tr>\n",
       "    <tr>\n",
       "      <th>15 </th>\n",
       "      <td>-0.173674</td>\n",
       "      <td> 3.114684</td>\n",
       "      <td>-1.284407</td>\n",
       "      <td>-1.050031</td>\n",
       "    </tr>\n",
       "    <tr>\n",
       "      <th>16 </th>\n",
       "      <td>-0.537178</td>\n",
       "      <td> 1.957669</td>\n",
       "      <td>-1.398138</td>\n",
       "      <td>-1.050031</td>\n",
       "    </tr>\n",
       "    <tr>\n",
       "      <th>17 </th>\n",
       "      <td>-0.900681</td>\n",
       "      <td> 1.032057</td>\n",
       "      <td>-1.341272</td>\n",
       "      <td>-1.181504</td>\n",
       "    </tr>\n",
       "    <tr>\n",
       "      <th>18 </th>\n",
       "      <td>-0.173674</td>\n",
       "      <td> 1.726266</td>\n",
       "      <td>-1.170675</td>\n",
       "      <td>-1.181504</td>\n",
       "    </tr>\n",
       "    <tr>\n",
       "      <th>19 </th>\n",
       "      <td>-0.900681</td>\n",
       "      <td> 1.726266</td>\n",
       "      <td>-1.284407</td>\n",
       "      <td>-1.181504</td>\n",
       "    </tr>\n",
       "    <tr>\n",
       "      <th>20 </th>\n",
       "      <td>-0.537178</td>\n",
       "      <td> 0.800654</td>\n",
       "      <td>-1.170675</td>\n",
       "      <td>-1.312977</td>\n",
       "    </tr>\n",
       "    <tr>\n",
       "      <th>21 </th>\n",
       "      <td>-0.900681</td>\n",
       "      <td> 1.494863</td>\n",
       "      <td>-1.284407</td>\n",
       "      <td>-1.050031</td>\n",
       "    </tr>\n",
       "    <tr>\n",
       "      <th>22 </th>\n",
       "      <td>-1.506521</td>\n",
       "      <td> 1.263460</td>\n",
       "      <td>-1.568735</td>\n",
       "      <td>-1.312977</td>\n",
       "    </tr>\n",
       "    <tr>\n",
       "      <th>23 </th>\n",
       "      <td>-0.900681</td>\n",
       "      <td> 0.569251</td>\n",
       "      <td>-1.170675</td>\n",
       "      <td>-0.918558</td>\n",
       "    </tr>\n",
       "    <tr>\n",
       "      <th>24 </th>\n",
       "      <td>-1.264185</td>\n",
       "      <td> 0.800654</td>\n",
       "      <td>-1.056944</td>\n",
       "      <td>-1.312977</td>\n",
       "    </tr>\n",
       "    <tr>\n",
       "      <th>25 </th>\n",
       "      <td>-1.021849</td>\n",
       "      <td>-0.124958</td>\n",
       "      <td>-1.227541</td>\n",
       "      <td>-1.312977</td>\n",
       "    </tr>\n",
       "    <tr>\n",
       "      <th>26 </th>\n",
       "      <td>-1.021849</td>\n",
       "      <td> 0.800654</td>\n",
       "      <td>-1.227541</td>\n",
       "      <td>-1.050031</td>\n",
       "    </tr>\n",
       "    <tr>\n",
       "      <th>27 </th>\n",
       "      <td>-0.779513</td>\n",
       "      <td> 1.032057</td>\n",
       "      <td>-1.284407</td>\n",
       "      <td>-1.312977</td>\n",
       "    </tr>\n",
       "    <tr>\n",
       "      <th>28 </th>\n",
       "      <td>-0.779513</td>\n",
       "      <td> 0.800654</td>\n",
       "      <td>-1.341272</td>\n",
       "      <td>-1.312977</td>\n",
       "    </tr>\n",
       "    <tr>\n",
       "      <th>29 </th>\n",
       "      <td>-1.385353</td>\n",
       "      <td> 0.337848</td>\n",
       "      <td>-1.227541</td>\n",
       "      <td>-1.312977</td>\n",
       "    </tr>\n",
       "    <tr>\n",
       "      <th>...</th>\n",
       "      <td>...</td>\n",
       "      <td>...</td>\n",
       "      <td>...</td>\n",
       "      <td>...</td>\n",
       "    </tr>\n",
       "    <tr>\n",
       "      <th>120</th>\n",
       "      <td> 1.280340</td>\n",
       "      <td> 0.337848</td>\n",
       "      <td> 1.103953</td>\n",
       "      <td> 1.447956</td>\n",
       "    </tr>\n",
       "    <tr>\n",
       "      <th>121</th>\n",
       "      <td>-0.294842</td>\n",
       "      <td>-0.587764</td>\n",
       "      <td> 0.649027</td>\n",
       "      <td> 1.053537</td>\n",
       "    </tr>\n",
       "    <tr>\n",
       "      <th>122</th>\n",
       "      <td> 2.249683</td>\n",
       "      <td>-0.587764</td>\n",
       "      <td> 1.672610</td>\n",
       "      <td> 1.053537</td>\n",
       "    </tr>\n",
       "    <tr>\n",
       "      <th>123</th>\n",
       "      <td> 0.553333</td>\n",
       "      <td>-0.819166</td>\n",
       "      <td> 0.649027</td>\n",
       "      <td> 0.790591</td>\n",
       "    </tr>\n",
       "    <tr>\n",
       "      <th>124</th>\n",
       "      <td> 1.038005</td>\n",
       "      <td> 0.569251</td>\n",
       "      <td> 1.103953</td>\n",
       "      <td> 1.185010</td>\n",
       "    </tr>\n",
       "    <tr>\n",
       "      <th>125</th>\n",
       "      <td> 1.643844</td>\n",
       "      <td> 0.337848</td>\n",
       "      <td> 1.274550</td>\n",
       "      <td> 0.790591</td>\n",
       "    </tr>\n",
       "    <tr>\n",
       "      <th>126</th>\n",
       "      <td> 0.432165</td>\n",
       "      <td>-0.587764</td>\n",
       "      <td> 0.592162</td>\n",
       "      <td> 0.790591</td>\n",
       "    </tr>\n",
       "    <tr>\n",
       "      <th>127</th>\n",
       "      <td> 0.310998</td>\n",
       "      <td>-0.124958</td>\n",
       "      <td> 0.649027</td>\n",
       "      <td> 0.790591</td>\n",
       "    </tr>\n",
       "    <tr>\n",
       "      <th>128</th>\n",
       "      <td> 0.674501</td>\n",
       "      <td>-0.587764</td>\n",
       "      <td> 1.047087</td>\n",
       "      <td> 1.185010</td>\n",
       "    </tr>\n",
       "    <tr>\n",
       "      <th>129</th>\n",
       "      <td> 1.643844</td>\n",
       "      <td>-0.124958</td>\n",
       "      <td> 1.160819</td>\n",
       "      <td> 0.527645</td>\n",
       "    </tr>\n",
       "    <tr>\n",
       "      <th>130</th>\n",
       "      <td> 1.886180</td>\n",
       "      <td>-0.587764</td>\n",
       "      <td> 1.331416</td>\n",
       "      <td> 0.922064</td>\n",
       "    </tr>\n",
       "    <tr>\n",
       "      <th>131</th>\n",
       "      <td> 2.492019</td>\n",
       "      <td> 1.726266</td>\n",
       "      <td> 1.502013</td>\n",
       "      <td> 1.053537</td>\n",
       "    </tr>\n",
       "    <tr>\n",
       "      <th>132</th>\n",
       "      <td> 0.674501</td>\n",
       "      <td>-0.587764</td>\n",
       "      <td> 1.047087</td>\n",
       "      <td> 1.316483</td>\n",
       "    </tr>\n",
       "    <tr>\n",
       "      <th>133</th>\n",
       "      <td> 0.553333</td>\n",
       "      <td>-0.587764</td>\n",
       "      <td> 0.762759</td>\n",
       "      <td> 0.396172</td>\n",
       "    </tr>\n",
       "    <tr>\n",
       "      <th>134</th>\n",
       "      <td> 0.310998</td>\n",
       "      <td>-1.050569</td>\n",
       "      <td> 1.047087</td>\n",
       "      <td> 0.264699</td>\n",
       "    </tr>\n",
       "    <tr>\n",
       "      <th>135</th>\n",
       "      <td> 2.249683</td>\n",
       "      <td>-0.124958</td>\n",
       "      <td> 1.331416</td>\n",
       "      <td> 1.447956</td>\n",
       "    </tr>\n",
       "    <tr>\n",
       "      <th>136</th>\n",
       "      <td> 0.553333</td>\n",
       "      <td> 0.800654</td>\n",
       "      <td> 1.047087</td>\n",
       "      <td> 1.579429</td>\n",
       "    </tr>\n",
       "    <tr>\n",
       "      <th>137</th>\n",
       "      <td> 0.674501</td>\n",
       "      <td> 0.106445</td>\n",
       "      <td> 0.990221</td>\n",
       "      <td> 0.790591</td>\n",
       "    </tr>\n",
       "    <tr>\n",
       "      <th>138</th>\n",
       "      <td> 0.189830</td>\n",
       "      <td>-0.124958</td>\n",
       "      <td> 0.592162</td>\n",
       "      <td> 0.790591</td>\n",
       "    </tr>\n",
       "    <tr>\n",
       "      <th>139</th>\n",
       "      <td> 1.280340</td>\n",
       "      <td> 0.106445</td>\n",
       "      <td> 0.933356</td>\n",
       "      <td> 1.185010</td>\n",
       "    </tr>\n",
       "    <tr>\n",
       "      <th>140</th>\n",
       "      <td> 1.038005</td>\n",
       "      <td> 0.106445</td>\n",
       "      <td> 1.047087</td>\n",
       "      <td> 1.579429</td>\n",
       "    </tr>\n",
       "    <tr>\n",
       "      <th>141</th>\n",
       "      <td> 1.280340</td>\n",
       "      <td> 0.106445</td>\n",
       "      <td> 0.762759</td>\n",
       "      <td> 1.447956</td>\n",
       "    </tr>\n",
       "    <tr>\n",
       "      <th>142</th>\n",
       "      <td>-0.052506</td>\n",
       "      <td>-0.819166</td>\n",
       "      <td> 0.762759</td>\n",
       "      <td> 0.922064</td>\n",
       "    </tr>\n",
       "    <tr>\n",
       "      <th>143</th>\n",
       "      <td> 1.159173</td>\n",
       "      <td> 0.337848</td>\n",
       "      <td> 1.217684</td>\n",
       "      <td> 1.447956</td>\n",
       "    </tr>\n",
       "    <tr>\n",
       "      <th>144</th>\n",
       "      <td> 1.038005</td>\n",
       "      <td> 0.569251</td>\n",
       "      <td> 1.103953</td>\n",
       "      <td> 1.710902</td>\n",
       "    </tr>\n",
       "    <tr>\n",
       "      <th>145</th>\n",
       "      <td> 1.038005</td>\n",
       "      <td>-0.124958</td>\n",
       "      <td> 0.819624</td>\n",
       "      <td> 1.447956</td>\n",
       "    </tr>\n",
       "    <tr>\n",
       "      <th>146</th>\n",
       "      <td> 0.553333</td>\n",
       "      <td>-1.281972</td>\n",
       "      <td> 0.705893</td>\n",
       "      <td> 0.922064</td>\n",
       "    </tr>\n",
       "    <tr>\n",
       "      <th>147</th>\n",
       "      <td> 0.795669</td>\n",
       "      <td>-0.124958</td>\n",
       "      <td> 0.819624</td>\n",
       "      <td> 1.053537</td>\n",
       "    </tr>\n",
       "    <tr>\n",
       "      <th>148</th>\n",
       "      <td> 0.432165</td>\n",
       "      <td> 0.800654</td>\n",
       "      <td> 0.933356</td>\n",
       "      <td> 1.447956</td>\n",
       "    </tr>\n",
       "    <tr>\n",
       "      <th>149</th>\n",
       "      <td> 0.068662</td>\n",
       "      <td>-0.124958</td>\n",
       "      <td> 0.762759</td>\n",
       "      <td> 0.790591</td>\n",
       "    </tr>\n",
       "  </tbody>\n",
       "</table>\n",
       "<p>150 rows × 4 columns</p>\n",
       "</div>"
      ],
      "text/plain": [
       "     sepal length (cm)  sepal width (cm)  petal length (cm)  petal width (cm)\n",
       "0            -0.900681          1.032057          -1.341272         -1.312977\n",
       "1            -1.143017         -0.124958          -1.341272         -1.312977\n",
       "2            -1.385353          0.337848          -1.398138         -1.312977\n",
       "3            -1.506521          0.106445          -1.284407         -1.312977\n",
       "4            -1.021849          1.263460          -1.341272         -1.312977\n",
       "5            -0.537178          1.957669          -1.170675         -1.050031\n",
       "6            -1.506521          0.800654          -1.341272         -1.181504\n",
       "7            -1.021849          0.800654          -1.284407         -1.312977\n",
       "8            -1.748856         -0.356361          -1.341272         -1.312977\n",
       "9            -1.143017          0.106445          -1.284407         -1.444450\n",
       "10           -0.537178          1.494863          -1.284407         -1.312977\n",
       "11           -1.264185          0.800654          -1.227541         -1.312977\n",
       "12           -1.264185         -0.124958          -1.341272         -1.444450\n",
       "13           -1.870024         -0.124958          -1.511870         -1.444450\n",
       "14           -0.052506          2.189072          -1.455004         -1.312977\n",
       "15           -0.173674          3.114684          -1.284407         -1.050031\n",
       "16           -0.537178          1.957669          -1.398138         -1.050031\n",
       "17           -0.900681          1.032057          -1.341272         -1.181504\n",
       "18           -0.173674          1.726266          -1.170675         -1.181504\n",
       "19           -0.900681          1.726266          -1.284407         -1.181504\n",
       "20           -0.537178          0.800654          -1.170675         -1.312977\n",
       "21           -0.900681          1.494863          -1.284407         -1.050031\n",
       "22           -1.506521          1.263460          -1.568735         -1.312977\n",
       "23           -0.900681          0.569251          -1.170675         -0.918558\n",
       "24           -1.264185          0.800654          -1.056944         -1.312977\n",
       "25           -1.021849         -0.124958          -1.227541         -1.312977\n",
       "26           -1.021849          0.800654          -1.227541         -1.050031\n",
       "27           -0.779513          1.032057          -1.284407         -1.312977\n",
       "28           -0.779513          0.800654          -1.341272         -1.312977\n",
       "29           -1.385353          0.337848          -1.227541         -1.312977\n",
       "..                 ...               ...                ...               ...\n",
       "120           1.280340          0.337848           1.103953          1.447956\n",
       "121          -0.294842         -0.587764           0.649027          1.053537\n",
       "122           2.249683         -0.587764           1.672610          1.053537\n",
       "123           0.553333         -0.819166           0.649027          0.790591\n",
       "124           1.038005          0.569251           1.103953          1.185010\n",
       "125           1.643844          0.337848           1.274550          0.790591\n",
       "126           0.432165         -0.587764           0.592162          0.790591\n",
       "127           0.310998         -0.124958           0.649027          0.790591\n",
       "128           0.674501         -0.587764           1.047087          1.185010\n",
       "129           1.643844         -0.124958           1.160819          0.527645\n",
       "130           1.886180         -0.587764           1.331416          0.922064\n",
       "131           2.492019          1.726266           1.502013          1.053537\n",
       "132           0.674501         -0.587764           1.047087          1.316483\n",
       "133           0.553333         -0.587764           0.762759          0.396172\n",
       "134           0.310998         -1.050569           1.047087          0.264699\n",
       "135           2.249683         -0.124958           1.331416          1.447956\n",
       "136           0.553333          0.800654           1.047087          1.579429\n",
       "137           0.674501          0.106445           0.990221          0.790591\n",
       "138           0.189830         -0.124958           0.592162          0.790591\n",
       "139           1.280340          0.106445           0.933356          1.185010\n",
       "140           1.038005          0.106445           1.047087          1.579429\n",
       "141           1.280340          0.106445           0.762759          1.447956\n",
       "142          -0.052506         -0.819166           0.762759          0.922064\n",
       "143           1.159173          0.337848           1.217684          1.447956\n",
       "144           1.038005          0.569251           1.103953          1.710902\n",
       "145           1.038005         -0.124958           0.819624          1.447956\n",
       "146           0.553333         -1.281972           0.705893          0.922064\n",
       "147           0.795669         -0.124958           0.819624          1.053537\n",
       "148           0.432165          0.800654           0.933356          1.447956\n",
       "149           0.068662         -0.124958           0.762759          0.790591\n",
       "\n",
       "[150 rows x 4 columns]"
      ]
     },
     "execution_count": 46,
     "metadata": {},
     "output_type": "execute_result"
    }
   ],
   "source": [
    "df_norm.iloc[:,:4]"
   ]
  },
  {
   "cell_type": "code",
   "execution_count": 48,
   "metadata": {
    "collapsed": true
   },
   "outputs": [],
   "source": [
    "X_train, X_test, y_train, y_test = train_test_split(df_norm.iloc[:,:4], df_norm.Target, test_size=0.3, random_state=12)"
   ]
  },
  {
   "cell_type": "code",
   "execution_count": 51,
   "metadata": {
    "collapsed": false
   },
   "outputs": [
    {
     "name": "stdout",
     "output_type": "stream",
     "text": [
      "[[ -5.37177559e-01   1.49486315e+00  -1.28440670e+00  -1.31297673e+00]\n",
      " [ -9.00681170e-01   1.72626612e+00  -1.22754100e+00  -1.31297673e+00]\n",
      " [ -4.16009689e-01   1.03205722e+00  -1.39813811e+00  -1.31297673e+00]\n",
      " [  1.03800476e+00   5.69251294e-01   1.10395287e+00   1.18500970e+00]\n",
      " [ -1.02184904e+00   8.00654259e-01  -1.28440670e+00  -1.31297673e+00]\n",
      " [  6.74501145e-01  -5.87763531e-01   1.04708716e+00   1.31648267e+00]\n",
      " [  1.89829664e-01   8.00654259e-01   4.21564419e-01   5.27644853e-01]\n",
      " [  1.28034050e+00   1.06445364e-01   6.49027235e-01   3.96171883e-01]\n",
      " [  3.10997534e-01  -3.56360566e-01   5.35295827e-01   2.64698913e-01]\n",
      " [ -6.58345429e-01   1.49486315e+00  -1.28440670e+00  -1.31297673e+00]\n",
      " [  6.74501145e-01  -8.19166497e-01   8.76490051e-01   9.22063763e-01]\n",
      " [ -5.25060772e-02  -1.05056946e+00   1.37235899e-01   1.75297293e-03]\n",
      " [  3.10997534e-01  -1.24957601e-01   4.78430123e-01   2.64698913e-01]\n",
      " [  1.28034050e+00   3.37848329e-01   1.10395287e+00   1.44795564e+00]\n",
      " [ -1.14301691e+00   1.06445364e-01  -1.28440670e+00  -1.44444970e+00]\n",
      " [ -1.73673948e-01  -1.28197243e+00   7.05892939e-01   1.05353673e+00]\n",
      " [ -5.37177559e-01   1.95766909e+00  -1.17067529e+00  -1.05003079e+00]\n",
      " [  1.03800476e+00   5.69251294e-01   1.10395287e+00   1.71090158e+00]\n",
      " [ -1.14301691e+00  -1.28197243e+00   4.21564419e-01   6.59117823e-01]\n",
      " [ -5.25060772e-02  -5.87763531e-01   7.62758643e-01   1.57942861e+00]\n",
      " [  1.89829664e-01  -1.24957601e-01   5.92161531e-01   7.90590793e-01]\n",
      " [  1.03800476e+00   1.06445364e-01   5.35295827e-01   3.96171883e-01]\n",
      " [ -1.14301691e+00  -1.51337539e+00  -2.60824029e-01  -2.61192967e-01]\n",
      " [ -1.02184904e+00  -1.74477836e+00  -2.60824029e-01  -2.61192967e-01]\n",
      " [  1.89829664e-01  -8.19166497e-01   7.62758643e-01   5.27644853e-01]\n",
      " [  2.12851559e+00  -1.24957601e-01   1.61574420e+00   1.18500970e+00]\n",
      " [ -9.00681170e-01   1.03205722e+00  -1.34127240e+00  -1.31297673e+00]\n",
      " [  1.03800476e+00   1.06445364e-01   1.04708716e+00   1.57942861e+00]\n",
      " [  2.49201920e+00   1.72626612e+00   1.50201279e+00   1.05353673e+00]\n",
      " [ -1.14301691e+00   1.06445364e-01  -1.28440670e+00  -1.44444970e+00]\n",
      " [ -2.94841818e-01  -8.19166497e-01   2.50967307e-01   1.33225943e-01]\n",
      " [ -1.73673948e-01   1.72626612e+00  -1.17067529e+00  -1.18150376e+00]\n",
      " [  6.74501145e-01   3.37848329e-01   8.76490051e-01   1.44795564e+00]\n",
      " [  2.24968346e+00  -5.87763531e-01   1.67260991e+00   1.05353673e+00]\n",
      " [ -1.02184904e+00   1.03205722e+00  -1.22754100e+00  -7.87084847e-01]\n",
      " [  6.74501145e-01   3.37848329e-01   4.21564419e-01   3.96171883e-01]\n",
      " [ -2.94841818e-01  -1.28197243e+00   8.03701950e-02  -1.29719997e-01]\n",
      " [ -1.38535265e+00   3.37848329e-01  -1.22754100e+00  -1.31297673e+00]\n",
      " [ -5.37177559e-01   8.00654259e-01  -1.17067529e+00  -1.31297673e+00]\n",
      " [  5.53333275e-01  -1.74477836e+00   3.64698715e-01   1.33225943e-01]\n",
      " [ -1.73673948e-01  -5.87763531e-01   4.21564419e-01   1.33225943e-01]\n",
      " [  7.95669016e-01  -5.87763531e-01   4.78430123e-01   3.96171883e-01]\n",
      " [ -5.37177559e-01  -1.24957601e-01   4.21564419e-01   3.96171883e-01]\n",
      " [  6.74501145e-01   1.06445364e-01   9.90221459e-01   7.90590793e-01]\n",
      " [  9.16836886e-01  -3.56360566e-01   4.78430123e-01   1.33225943e-01]\n",
      " [  1.28034050e+00   1.06445364e-01   9.33355755e-01   1.18500970e+00]\n",
      " [ -7.79513300e-01   8.00654259e-01  -1.34127240e+00  -1.31297673e+00]\n",
      " [ -1.38535265e+00   3.37848329e-01  -1.39813811e+00  -1.31297673e+00]\n",
      " [ -5.25060772e-02  -8.19166497e-01   1.94101603e-01  -2.61192967e-01]\n",
      " [ -1.73673948e-01  -1.24957601e-01   2.50967307e-01   1.75297293e-03]\n",
      " [  6.86617933e-02   3.37848329e-01   5.92161531e-01   7.90590793e-01]\n",
      " [ -1.74885626e+00   3.37848329e-01  -1.39813811e+00  -1.31297673e+00]\n",
      " [ -2.94841818e-01  -5.87763531e-01   6.49027235e-01   1.05353673e+00]\n",
      " [ -1.02184904e+00  -2.43898725e+00  -1.47092621e-01  -2.61192967e-01]\n",
      " [ -1.50652052e+00   3.37848329e-01  -1.34127240e+00  -1.31297673e+00]\n",
      " [  1.52267624e+00  -1.24957601e-01   1.21768427e+00   1.18500970e+00]\n",
      " [  5.53333275e-01   8.00654259e-01   1.04708716e+00   1.57942861e+00]\n",
      " [ -4.16009689e-01  -1.74477836e+00   1.37235899e-01   1.33225943e-01]\n",
      " [  3.10997534e-01  -1.24957601e-01   6.49027235e-01   7.90590793e-01]\n",
      " [  6.86617933e-02  -1.24957601e-01   7.62758643e-01   7.90590793e-01]\n",
      " [ -1.14301691e+00   1.06445364e-01  -1.28440670e+00  -1.44444970e+00]\n",
      " [ -9.00681170e-01   1.72626612e+00  -1.05694388e+00  -1.05003079e+00]\n",
      " [  1.76501198e+00  -3.56360566e-01   1.44514709e+00   7.90590793e-01]\n",
      " [  1.03800476e+00   1.06445364e-01   3.64698715e-01   2.64698913e-01]\n",
      " [  4.32165405e-01  -1.97618132e+00   4.21564419e-01   3.96171883e-01]\n",
      " [  1.64384411e+00  -1.24957601e-01   1.16081857e+00   5.27644853e-01]\n",
      " [ -1.02184904e+00   1.26346019e+00  -1.34127240e+00  -1.31297673e+00]\n",
      " [  5.53333275e-01   5.69251294e-01   5.35295827e-01   5.27644853e-01]\n",
      " [  4.32165405e-01  -3.56360566e-01   3.07833011e-01   1.33225943e-01]\n",
      " [ -1.02184904e+00  -1.24957601e-01  -1.22754100e+00  -1.31297673e+00]\n",
      " [ -1.73673948e-01  -1.05056946e+00  -1.47092621e-01  -2.61192967e-01]\n",
      " [ -2.94841818e-01  -1.24957601e-01   1.94101603e-01   1.33225943e-01]\n",
      " [  7.95669016e-01  -1.24957601e-01   8.19624347e-01   1.05353673e+00]\n",
      " [ -5.25060772e-02  -8.19166497e-01   7.62758643e-01   9.22063763e-01]\n",
      " [ -7.79513300e-01  -8.19166497e-01   8.03701950e-02   2.64698913e-01]\n",
      " [ -7.79513300e-01   1.03205722e+00  -1.28440670e+00  -1.31297673e+00]\n",
      " [  7.95669016e-01   3.37848329e-01   7.62758643e-01   1.05353673e+00]\n",
      " [ -7.79513300e-01   2.42047502e+00  -1.28440670e+00  -1.44444970e+00]\n",
      " [  1.15917263e+00  -1.24957601e-01   9.90221459e-01   1.18500970e+00]\n",
      " [ -1.26418478e+00   1.06445364e-01  -1.22754100e+00  -1.31297673e+00]\n",
      " [ -1.26418478e+00  -1.24957601e-01  -1.34127240e+00  -1.18150376e+00]\n",
      " [  3.10997534e-01  -5.87763531e-01   5.35295827e-01   1.75297293e-03]\n",
      " [  1.64384411e+00   1.26346019e+00   1.33141568e+00   1.71090158e+00]\n",
      " [  5.53333275e-01  -8.19166497e-01   6.49027235e-01   7.90590793e-01]\n",
      " [ -1.73673948e-01  -3.56360566e-01   2.50967307e-01   1.33225943e-01]\n",
      " [  1.89829664e-01  -1.97618132e+00   7.05892939e-01   3.96171883e-01]\n",
      " [  5.53333275e-01   5.69251294e-01   1.27454998e+00   1.71090158e+00]\n",
      " [ -1.02184904e+00   3.37848329e-01  -1.45500381e+00  -1.31297673e+00]\n",
      " [ -4.16009689e-01  -1.28197243e+00   1.37235899e-01   1.33225943e-01]\n",
      " [ -5.25060772e-02  -8.19166497e-01   8.03701950e-02   1.75297293e-03]\n",
      " [ -1.87002413e+00  -1.24957601e-01  -1.51186952e+00  -1.44444970e+00]\n",
      " [  7.95669016e-01  -1.24957601e-01   1.16081857e+00   1.31648267e+00]\n",
      " [  2.24968346e+00   1.72626612e+00   1.67260991e+00   1.31648267e+00]\n",
      " [  6.74501145e-01  -5.87763531e-01   1.04708716e+00   1.18500970e+00]\n",
      " [  6.74501145e-01  -3.56360566e-01   3.07833011e-01   1.33225943e-01]\n",
      " [  2.24968346e+00  -1.05056946e+00   1.78634131e+00   1.44795564e+00]\n",
      " [  1.28034050e+00   1.06445364e-01   7.62758643e-01   1.44795564e+00]\n",
      " [  5.53333275e-01  -5.87763531e-01   7.62758643e-01   3.96171883e-01]\n",
      " [ -1.02184904e+00   5.69251294e-01  -1.34127240e+00  -1.31297673e+00]\n",
      " [ -1.50652052e+00   1.26346019e+00  -1.56873522e+00  -1.31297673e+00]\n",
      " [  1.15917263e+00  -5.87763531e-01   5.92161531e-01   2.64698913e-01]\n",
      " [ -1.50652052e+00   1.06445364e-01  -1.28440670e+00  -1.31297673e+00]\n",
      " [  1.88617985e+00  -5.87763531e-01   1.33141568e+00   9.22063763e-01]\n",
      " [  3.10997534e-01  -1.05056946e+00   1.04708716e+00   2.64698913e-01]\n",
      " [  9.16836886e-01  -1.24957601e-01   3.64698715e-01   2.64698913e-01]]\n"
     ]
    }
   ],
   "source": [
    "print X_train"
   ]
  },
  {
   "cell_type": "code",
   "execution_count": 49,
   "metadata": {
    "collapsed": false
   },
   "outputs": [
    {
     "data": {
      "text/plain": [
       "pandas.core.series.Series"
      ]
     },
     "execution_count": 49,
     "metadata": {},
     "output_type": "execute_result"
    }
   ],
   "source": [
    "type(df_norm.Target)"
   ]
  },
  {
   "cell_type": "code",
   "execution_count": 44,
   "metadata": {
    "collapsed": false
   },
   "outputs": [
    {
     "data": {
      "text/plain": [
       "numpy.ndarray"
      ]
     },
     "execution_count": 44,
     "metadata": {},
     "output_type": "execute_result"
    }
   ],
   "source": [
    "type(iris.data)"
   ]
  },
  {
   "cell_type": "code",
   "execution_count": 43,
   "metadata": {
    "collapsed": false
   },
   "outputs": [
    {
     "data": {
      "text/plain": [
       "numpy.ndarray"
      ]
     },
     "execution_count": 43,
     "metadata": {},
     "output_type": "execute_result"
    }
   ],
   "source": [
    "type(iris.target)"
   ]
  },
  {
   "cell_type": "code",
   "execution_count": 50,
   "metadata": {
    "collapsed": false
   },
   "outputs": [
    {
     "name": "stdout",
     "output_type": "stream",
     "text": [
      "[0.9555555555555556, 0.9555555555555556, 0.97777777777777775, 0.97777777777777775, 0.97777777777777775, 1.0, 1.0, 1.0, 1.0, 0.97777777777777775, 0.97777777777777775, 0.97777777777777775, 0.97777777777777775, 0.97777777777777775, 0.93333333333333335, 0.93333333333333335, 0.93333333333333335, 0.93333333333333335, 0.88888888888888884, 0.88888888888888884, 0.88888888888888884, 0.88888888888888884, 0.88888888888888884, 0.88888888888888884, 0.88888888888888884]\n"
     ]
    }
   ],
   "source": [
    "scores = []\n",
    "for n in n_neighbors:\n",
    "    clf = neighbors.KNeighborsClassifier(n)\n",
    "    clf.fit(X_train, y_train)\n",
    "    scores.append(clf.score(X_test, y_test))\n",
    "print scores"
   ]
  },
  {
   "cell_type": "code",
   "execution_count": 52,
   "metadata": {
    "collapsed": false
   },
   "outputs": [
    {
     "data": {
      "text/plain": [
       "[<matplotlib.lines.Line2D at 0x18491be0>]"
      ]
     },
     "execution_count": 52,
     "metadata": {},
     "output_type": "execute_result"
    },
    {
     "data": {
      "image/png": "[encoded data removed]",
      "text/plain": [
       "<matplotlib.figure.Figure at 0x19b1d438>"
      ]
     },
     "metadata": {},
     "output_type": "display_data"
    }
   ],
   "source": [
    "plt.plot(n_neighbors, scores, linewidth=3.0)"
   ]
  },
  {
   "cell_type": "code",
   "execution_count": 53,
   "metadata": {
    "collapsed": true
   },
   "outputs": [],
   "source": [
    "from sklearn.cross_validation import cross_val_score\n",
    "clf = neighbors.KNeighborsClassifier(11, weights='uniform')\n",
    "clf.fit(df_norm.iloc[:,:4], df_norm.Target)\n",
    "scores = cross_val_score(clf, iris_df.values, iris.target, cv=5)"
   ]
  },
  {
   "cell_type": "code",
   "execution_count": 54,
   "metadata": {
    "collapsed": false
   },
   "outputs": [
    {
     "name": "stdout",
     "output_type": "stream",
     "text": [
      "[ 1.  1.  1.  1.  1.]\n",
      "1.0\n"
     ]
    }
   ],
   "source": [
    "print scores\n",
    "print scores.mean()"
   ]
  },
  {
   "cell_type": "markdown",
   "metadata": {},
   "source": [
    "## Lab"
   ]
  },
  {
   "cell_type": "markdown",
   "metadata": {},
   "source": [
    "1. Rerun the [parameter search](#Parameter-Search) with `random_state=8`. Do you get the same result for the optimal $k$\n",
    "2. Rerun the whole lab but using [scaled](#Scaling) data\n",
    "3. (Advanced) Write your own `classifyByKNeighbors` method:\n",
    "```\n",
    "score = classifyByKNeighbors(k, X_train, y_train, X_test, y_test)\n",
    "```\n",
    "or even better, your own `MyKNeighborsClassifier` class:\n",
    "```\n",
    "clf = MyKNeighborsClassifier(k)\n",
    "clf.fit(X_train, y_train)\n",
    "score = clf.score(X_test, y_test)\n",
    "```"
   ]
  },
  {
   "cell_type": "code",
   "execution_count": null,
   "metadata": {
    "collapsed": false
   },
   "outputs": [],
   "source": []
  }
 ],
 "metadata": {
  "kernelspec": {
   "display_name": "Python 2",
   "language": "python",
   "name": "python2"
  },
  "language_info": {
   "codemirror_mode": {
    "name": "ipython",
    "version": 2
   },
   "file_extension": ".py",
   "mimetype": "text/x-python",
   "name": "python",
   "nbconvert_exporter": "python",
   "pygments_lexer": "ipython2",
   "version": "2.7.9"
  }
 },
 "nbformat": 4,
 "nbformat_minor": 0
}
